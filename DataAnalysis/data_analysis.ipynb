{
  "nbformat": 4,
  "nbformat_minor": 0,
  "metadata": {
    "colab": {
      "name": "data_analysis.ipynb",
      "provenance": [],
      "toc_visible": true
    },
    "kernelspec": {
      "name": "python3",
      "display_name": "Python 3"
    },
    "language_info": {
      "name": "python"
    }
  },
  "cells": [
    {
      "cell_type": "code",
      "metadata": {
        "id": "8jShfRbPGaU7"
      },
      "source": [
        "import nltk\n",
        "import pandas as pd\n",
        "from collections import Counter\n",
        "from nltk.sentiment import SentimentIntensityAnalyzer\n",
        "sia = SentimentIntensityAnalyzer()\n",
        "\n",
        "def compute_sentiment(review_text: str):\n",
        "    sentiment = ''\n",
        "    compound_score = sia.polarity_scores(review_text)[\"compound\"]\n",
        "    if compound_score < -0.25 :\n",
        "      sentiment = 'negative'\n",
        "    elif compound_score >= -0.25 and compound_score <= 0.25:\n",
        "      sentiment = 'neutral'\n",
        "    else:\n",
        "      sentiment = 'positive'\n",
        "    return sentiment\n",
        "\n",
        "def read_data(filename):\n",
        "  input_data = pd.read_csv(filename)\n",
        "  input_data = input_data.fillna('.')\n",
        "  return input_data\n",
        "\n",
        "def populate_dictionary(scores_aggregate):\n",
        "  s = set({1, 2, 3, 4, 5})\n",
        "  for number in s :\n",
        "    if number not in scores_aggregate.keys():\n",
        "      scores_aggregate[number] = 0\n",
        "\n",
        "def calculate_scores():\n",
        "  input_data = read_data('sample_data.csv')\n",
        "  array_scores = input_data['How comfortable are you working with arrays?']\n",
        "  pointer_scores = input_data['How comfortable are you working with pointers?']\n",
        "  linked_list_scores = input_data['How comfortable are you working with Linked Lists?']\n",
        "  ta_ratings = input_data['How would you rate your TA?']\n",
        "  recitation_text = input_data['If you could improve one thing about Recitation, what would it be?']\n",
        "  array_scores_aggregate = Counter(array_scores)\n",
        "  linked_list_scores_aggregate = Counter(linked_list_scores)\n",
        "  pointer_scores_aggregate = Counter(pointer_scores)\n",
        "  populate_dictionary(array_scores_aggregate)\n",
        "  populate_dictionary(pointer_scores_aggregate)\n",
        "  populate_dictionary(linked_list_scores_aggregate)\n",
        "  agg = ta_ratings.agg(['min', 'max', 'average'])\n",
        "  ta_max_rating = round((float) (agg['max']), 2)\n",
        "  ta_min_rating = round((float) (agg['min']), 2)\n",
        "  ta_average_rating =  round((float) (agg['average']), 2)\n",
        "  ta_scores = {\"ta_max_rating\" : ta_max_rating, \"ta_min_rating\" :ta_min_rating, \"ta_average_rating\" : ta_average_rating}\n",
        "  polarity_dictionary = {} \n",
        "  for text in recitation_text:\n",
        "    sentiment = compute_sentiment(text)\n",
        "    polarity_dictionary[sentiment] = polarity_dictionary.get(sentiment, 0) + 1\n",
        "    \n",
        "  return [array_scores_aggregate, pointer_scores_aggregate, linked_list_scores_aggregate, ta_scores, polarity_dictionary]\n",
        "\n",
        "def main():\n",
        "  scores = calculate_scores()\n",
        "  array_scores_aggregate, pointer_scores_aggregate, linked_list_scores_aggregate, ta_scores, polarity_dictionary = scores[0], scores[1], scores[2], scores[3], scores[4]\n",
        "  print('array scores {}'.format(array_scores_aggregate))\n",
        "  print('pointer scores {}'.format(pointer_scores_aggregate))\n",
        "  print('linked list scores {}'.format(linked_list_scores_aggregate))\n",
        "  print('TA Scores {}' .format(ta_scores))\n",
        "  print('Polarity Dictionary {}' .format(polarity_dictionary))\n"
      ],
      "execution_count": 22,
      "outputs": []
    },
    {
      "cell_type": "code",
      "metadata": {
        "id": "tpmSL_yOQqeT"
      },
      "source": [
        "from elasticsearch import Elasticsearch\n",
        "\n",
        "\n",
        "def get_es_credentials():\n",
        "  return {\n",
        "      \"user\": \"elastic\", \n",
        "      \"password\": \"s5B0DDHP35MTfvYLvnPx1afX\",\n",
        "      \"cloud_id\": \"fos-project:dXMtd2VzdDEuZ2NwLmNsb3VkLmVzLmlvJGYwYjZlYzVhYzlkNTQ3ZmY5NWQ3Yjg0YmNlN2Q5MDM1JDFhNWMyNzBlYzk1NjQwOGQ5ZGM4MTUxMjMyNDdhMWM0\"\n",
        "    }\n",
        "\n",
        "ELASTIC_SETTINGS = get_es_credentials()\n",
        "\n",
        "def es():\n",
        "  es = Elasticsearch(\n",
        "      cloud_id=ELASTIC_SETTINGS[\"cloud_id\"],\n",
        "      http_auth=(ELASTIC_SETTINGS[\"user\"], ELASTIC_SETTINGS[\"password\"]),\n",
        "  )\n",
        "\n",
        "  ta_scores = {\"ta_max_rating\" : ta_max_rating, \"ta_min_rating\" :ta_min_rating, \"ta_average_rating\" : ta_average_rating}\n",
        "  es.index(index='sw', doc_type='people', id=1, body= array_scores_aggregate)\n",
        "  es.index(index='sw', doc_type='people', id=2, body= pointer_scores_aggregate)\n",
        "  es.index(index='sw', doc_type='people', id=3, body= linked_list_scores_aggregate)\n",
        "  es.index(index='sw', doc_type='people', id=4, body= ta_scores)\n",
        "  es.index(index='sw', doc_type='people', id=5, body= polarity_dictionary)\n",
        "\n",
        "  array_scores_1 = es.get(index='sw', doc_type='people', id=1)\n",
        "  pointer_scores_1 = es.get(index='sw', doc_type='people', id=2)\n",
        "  linked_list_scores_1 = es.get(index='sw', doc_type='people', id=3)\n",
        "  ta_scores_1 = es.get(index='sw', doc_type='people', id=4)\n",
        "  polarity_dictionary_1 = es.get(index='sw', doc_type='people', id=5)\n",
        "\n",
        "\n",
        "  print(array_scores_1)\n",
        "  print(pointer_scores_1)\n",
        "  print(linked_list_scores_1)\n",
        "  print(ta_scores_1)\n",
        "  print(polarity_dictionary_1)\n",
        "\n",
        "\n",
        "\n"
      ],
      "execution_count": 23,
      "outputs": []
    },
    {
      "cell_type": "code",
      "metadata": {
        "id": "3sBo4_91QtJS",
        "colab": {
          "base_uri": "https://localhost:8080/"
        },
        "outputId": "e9d2428e-67d5-455f-ba2f-e2d692286db4"
      },
      "source": [
        "main()\n",
        "print()\n",
        "es()"
      ],
      "execution_count": 26,
      "outputs": [
        {
          "output_type": "stream",
          "text": [
            "array scores Counter({5: 14, 4: 8, 3: 6, 1: 0, 2: 0})\n",
            "pointer scores Counter({4: 15, 3: 7, 5: 5, 1: 1, 2: 0})\n",
            "linked list scores Counter({3: 10, 4: 10, 5: 5, 2: 2, 1: 1})\n",
            "TA Scores {'ta_max_rating': 5.0, 'ta_min_rating': 3.0, 'ta_average_rating': 4.68}\n",
            "Polarity Dictionary {'positive': 12, 'neutral': 15, 'negative': 1}\n",
            "\n",
            "{'_index': 'sw', '_type': 'people', '_id': '1', '_version': 7, '_seq_no': 20, '_primary_term': 1, 'found': True, '_source': {'5': 14, '3': 6, '4': 8, '1': 0, '2': 0}}\n",
            "{'_index': 'sw', '_type': 'people', '_id': '2', '_version': 6, '_seq_no': 21, '_primary_term': 1, 'found': True, '_source': {'5': 5, '4': 15, '1': 1, '3': 7, '2': 0}}\n",
            "{'_index': 'sw', '_type': 'people', '_id': '3', '_version': 6, '_seq_no': 22, '_primary_term': 1, 'found': True, '_source': {'5': 5, '3': 10, '4': 10, '1': 1, '2': 2}}\n",
            "{'_index': 'sw', '_type': 'people', '_id': '4', '_version': 3, '_seq_no': 23, '_primary_term': 1, 'found': True, '_source': {'ta_max_rating': 5.0, 'ta_min_rating': 3.0, 'ta_average_rating': 4.68}}\n",
            "{'_index': 'sw', '_type': 'people', '_id': '5', '_version': 3, '_seq_no': 24, '_primary_term': 1, 'found': True, '_source': {'positive': 12, 'neutral': 15, 'negative': 1}}\n"
          ],
          "name": "stdout"
        }
      ]
    }
  ]
}